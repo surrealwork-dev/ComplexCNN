{
 "cells": [
  {
   "cell_type": "markdown",
   "metadata": {},
   "source": [
    "# Import Packages"
   ]
  },
  {
   "cell_type": "code",
   "execution_count": null,
   "metadata": {},
   "outputs": [],
   "source": [
    "import tensorflow as tf\n",
    "#tf.enable_eager_execution()\n",
    "\n",
    "import sys\n",
    "import numpy as np\n",
    "import doctest"
   ]
  },
  {
   "cell_type": "code",
   "execution_count": null,
   "metadata": {},
   "outputs": [],
   "source": [
    "tf.__version__"
   ]
  },
  {
   "cell_type": "code",
   "execution_count": null,
   "metadata": {},
   "outputs": [],
   "source": [
    "sys.path += ['./manifold-net-vision/', './SurReal/']"
   ]
  },
  {
   "cell_type": "markdown",
   "metadata": {},
   "source": [
    "# Import RadioML Data"
   ]
  },
  {
   "cell_type": "code",
   "execution_count": null,
   "metadata": {},
   "outputs": [],
   "source": [
    "from process_radioML_data import *"
   ]
  },
  {
   "cell_type": "code",
   "execution_count": null,
   "metadata": {},
   "outputs": [],
   "source": [
    "X, lbl, snrs, classes = read_in_RML()"
   ]
  },
  {
   "cell_type": "code",
   "execution_count": null,
   "metadata": {},
   "outputs": [],
   "source": [
    "X_train, Y_train, X_test, Y_test = partition_train_test(X, lbl, classes, maxtrain=2000, maxtest=1000)"
   ]
  },
  {
   "cell_type": "code",
   "execution_count": null,
   "metadata": {},
   "outputs": [],
   "source": [
    "[x.shape for x in [X_train, Y_train, X_test, Y_test]]"
   ]
  },
  {
   "cell_type": "code",
   "execution_count": null,
   "metadata": {},
   "outputs": [],
   "source": [
    "def enforce_bounds(theta):\n",
    "    '''Ensures that theta remains within the interval [-pi,pi].\n",
    "    \n",
    "    >>> enforce_bounds(-4)\n",
    "    2.2831853071795862\n",
    "    >>> enforce_bounds(-np.pi)\n",
    "    -3.141592653589793\n",
    "    >>> enforce_bounds(np.pi)\n",
    "    3.141592653589793\n",
    "    >>> enforce_bounds(3*np.pi)\n",
    "    3.141592653589793\n",
    "    >>> enforce_bounds(0)\n",
    "    0\n",
    "    >>> enforce_bounds(np.sqrt(2))\n",
    "    1.4142135623730951\n",
    "    '''\n",
    "    while theta < -np.pi:\n",
    "        theta += 2*np.pi\n",
    "    while theta > np.pi:\n",
    "        theta -= 2*np.pi\n",
    "    return theta"
   ]
  },
  {
   "cell_type": "code",
   "execution_count": null,
   "metadata": {},
   "outputs": [],
   "source": [
    "def identify(re, im):\n",
    "    '''Identifies re + j*im with r*exp(-j*theta) in the manifold\n",
    "    of complex numbers.\n",
    "    \n",
    "    >>> identify(1/np.sqrt(2), 1/np.sqrt(2))\n",
    "    (0.9999999999999999, 0.7853981633974483)\n",
    "    '''\n",
    "    r = np.sqrt(re**2 + im**2)\n",
    "    theta = np.arctan2(im,re)\n",
    "    #print('Original theta: ', theta)\n",
    "    theta = enforce_bounds(theta)\n",
    "    #print('Bounded theta: ', theta)\n",
    "    return r, theta"
   ]
  },
  {
   "cell_type": "code",
   "execution_count": null,
   "metadata": {},
   "outputs": [],
   "source": [
    "def get_manifold_distance(z1, z2):\n",
    "    '''Computes the distance between complex numbers z1 and z2\n",
    "    in the manifold defined on R^+ x SO(2) = {(r,R(theta))}\n",
    "    \n",
    "    >>> get_manifold_distance(np.complex(1,0),0.01)\n",
    "    4.605170185988091\n",
    "    >>> get_manifold_distance([1,0], [0.01,0])\n",
    "    4.605170185988091\n",
    "    >>> get_manifold_distance([1,0], np.complex(0,1))\n",
    "    2.221441469079183\n",
    "    '''\n",
    "    #print('Original z1: ', z1)\n",
    "    if type(z1) not in [list, np.ndarray, tuple]: #len(z1) < 2:\n",
    "        z1 = [np.real(z1), np.imag(z1)]\n",
    "    #    print('New z1: ', z1)\n",
    "    r1, theta1 = identify(z1[0], z1[1])\n",
    "    #print('r1, theta1: ', r1, theta1)\n",
    "    \n",
    "    #print('Original z2: ', z2)\n",
    "    if type(z2) not in [list, np.ndarray, tuple]: #len(z2) < 2:\n",
    "        z2 = [np.real(z2), np.imag(z2)]\n",
    "    #    print('New z2: ', z2)\n",
    "    r2, theta2 = identify(z2[0], z2[1])\n",
    "    #print('r2, theta2: ', r2, theta2)\n",
    "    \n",
    "    theta_diff = theta2 - theta1\n",
    "    theta_diff = enforce_bounds(theta_diff)\n",
    "    dman = np.sqrt( (np.log(r2/r1))**2 + 2*(theta_diff**2) )\n",
    "    return dman\n",
    "        "
   ]
  },
  {
   "cell_type": "code",
   "execution_count": null,
   "metadata": {},
   "outputs": [],
   "source": [
    "def pick_three_rand(m, realmin, realmax, imagmin, imagmax):\n",
    "    '''Generates three unique 1x2 arrays of random floats of\n",
    "    the intervals [realmin, realmax] and [imagmin, imagmax], \n",
    "    respectively.\n",
    "    '''\n",
    "    \n",
    "    a = np.array(\\\n",
    "        [ (realmax-realmin)*np.random.random_sample() + realmin ,\\\n",
    "            (imagmax-imagmin)*np.random.random_sample() + imagmin] )\n",
    "    while np.complex(a[0],a[1]) == np.complex(m[0],m[1]):\n",
    "        a = np.array(\\\n",
    "        [ (realmax-realmin)*np.random.random_sample() + realmin ,\\\n",
    "            (imagmax-imagmin)*np.random.random_sample() + imagmin] )\n",
    "    b = np.array(\\\n",
    "        [ (realmax-realmin)*np.random.random_sample() + realmin ,\\\n",
    "            (imagmax-imagmin)*np.random.random_sample() + imagmin] )\n",
    "    while np.complex(b[0],b[1]) == np.complex(m[0],m[1]) or\\\n",
    "            np.complex(b[0],b[1]) == np.complex(a[0],a[1]):\n",
    "        b = np.array(\\\n",
    "        [ (realmax-realmin)*np.random.random_sample() + realmin ,\\\n",
    "            (imagmax-imagmin)*np.random.random_sample() + imagmin] )\n",
    "    c = np.array(\\\n",
    "        [ (realmax-realmin)*np.random.random_sample() + realmin ,\\\n",
    "            (imagmax-imagmin)*np.random.random_sample() + imagmin] )\n",
    "    while np.complex(c[0],c[1]) == np.complex(m[0],m[1]) or\\\n",
    "            np.complex(c[0],c[1]) == np.complex(b[0],b[1]) or\\\n",
    "            np.complex(c[0],c[1]) == np.complex(a[0],a[1]):\n",
    "        c = np.array(\\\n",
    "        [ (realmax-realmin)*np.random.random_sample() + realmin ,\\\n",
    "            (imagmax-imagmin)*np.random.random_sample() + imagmin] )\n",
    "    return a,b,c"
   ]
  },
  {
   "cell_type": "code",
   "execution_count": null,
   "metadata": {},
   "outputs": [],
   "source": [
    "def get_weighted_sum(point_list, weight_list, m):\n",
    "    '''Computes the weighted sum\n",
    "    Sum_i=1^K( weight_list[i] * (dman([point_list[:][i]], m))**2 )\n",
    "    \n",
    "    >>> get_weighted_sum([[1],[1]], [0.5], [1,0])\n",
    "    0.67690690180786\n",
    "    '''\n",
    "    point_list = np.array(point_list)\n",
    "    weight_list = np.array(weight_list)\n",
    "    if point_list.shape[0] != 2:\n",
    "        point_list = point_list.reshape(2,-1)\n",
    "    \n",
    "    s = [ weight_list[i] * \\\n",
    "              (get_manifold_distance([point_list[0][i],point_list[1][i]], m))**2 \\\n",
    "                                     for i in range(weight_list.shape[0]) ] \n",
    "    \n",
    "    S = sum(s)\n",
    "    return S"
   ]
  },
  {
   "cell_type": "code",
   "execution_count": null,
   "metadata": {},
   "outputs": [],
   "source": [
    "def calc_wfm(point_list, weight_list, num_iters=500,\\\n",
    "            crossover_prob=0.75, F=0.25):\n",
    "    '''Computes the weighted Frechet mean of point_list with\n",
    "    filter weights weight_list. \n",
    "    Uses differential evolution for minimization of the \n",
    "    weighted variance.\n",
    "    '''\n",
    "    realmin, realmax = min(point_list[0]), max(point_list[0])\n",
    "    imagmin, imagmax = min(point_list[1]), max(point_list[1])\n",
    "    iternum = 0\n",
    "    start_point = \\\n",
    "        (np.mean(point_list[0]), np.mean(point_list[1]))\n",
    "    m = start_point\n",
    "    while iternum < num_iters:\n",
    "        iternum += 1\n",
    "        f_m = get_weighted_sum(point_list, weight_list, m)\n",
    "        # Implement differential evolution.\n",
    "        # For each agent m (1 agent)\n",
    "        # Pick three agents a,b,c from the possible parameter space\n",
    "        a,b,c = pick_three_rand(m, realmin, realmax,\\\n",
    "                        imagmin, imagmax)\n",
    "        \n",
    "        # Pick random number to determine crossover\n",
    "        r = np.random.rand(1)\n",
    "        if r < crossover_prob:\n",
    "            y = a + F*(b - c)\n",
    "            f_y = get_weighted_sum(point_list, weight_list, y)\n",
    "            if f_y <= f_m:\n",
    "                m = y\n",
    "                print('New min: ', m)\n",
    "            else:\n",
    "                print('No new min')\n",
    "        else:\n",
    "            print('no crossover')\n",
    "    return m\n",
    "            "
   ]
  },
  {
   "cell_type": "code",
   "execution_count": null,
   "metadata": {},
   "outputs": [],
   "source": [
    "point_list = [[1,2,3],[4,5,6]]\n",
    "weight_list = [1, 0.5, 0.33]\n",
    "m = [1,0]\n",
    "out = calc_wfm(point_list, weight_list)"
   ]
  }
 ],
 "metadata": {
  "kernelspec": {
   "display_name": "Python 3",
   "language": "python",
   "name": "python3"
  },
  "language_info": {
   "codemirror_mode": {
    "name": "ipython",
    "version": 3
   },
   "file_extension": ".py",
   "mimetype": "text/x-python",
   "name": "python",
   "nbconvert_exporter": "python",
   "pygments_lexer": "ipython3",
   "version": "3.7.3"
  }
 },
 "nbformat": 4,
 "nbformat_minor": 2
}
