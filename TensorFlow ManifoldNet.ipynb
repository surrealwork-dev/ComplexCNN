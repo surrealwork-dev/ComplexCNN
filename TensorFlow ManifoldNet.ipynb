{
 "cells": [
  {
   "cell_type": "markdown",
   "metadata": {},
   "source": [
    "# fm_ops_keras.py"
   ]
  },
  {
   "cell_type": "code",
   "execution_count": 1,
   "metadata": {},
   "outputs": [],
   "source": [
    "import tensorflow as tf"
   ]
  },
  {
   "cell_type": "code",
   "execution_count": 2,
   "metadata": {},
   "outputs": [
    {
     "name": "stderr",
     "output_type": "stream",
     "text": [
      "Using TensorFlow backend.\n"
     ]
    }
   ],
   "source": [
    "import keras\n",
    "import numpy as np"
   ]
  },
  {
   "cell_type": "code",
   "execution_count": 4,
   "metadata": {},
   "outputs": [],
   "source": [
    "from tensorflow import nn as nn"
   ]
  },
  {
   "cell_type": "code",
   "execution_count": 6,
   "metadata": {},
   "outputs": [],
   "source": [
    "import scipy.linalg"
   ]
  },
  {
   "cell_type": "code",
   "execution_count": 10,
   "metadata": {},
   "outputs": [],
   "source": [
    "# Matrix Square Root\n",
    "# sqrtm = scipy.linalg.sqrtm(m).real\n",
    "# Keep type consistent\n",
    "# np.matrix.astype(np.float/int/...)"
   ]
  },
  {
   "cell_type": "code",
   "execution_count": 11,
   "metadata": {},
   "outputs": [],
   "source": [
    "def weightedIterativeStatistic(point_list, weights, \\\n",
    "                               iterative_stat_function):\n",
    "    mean = iterative_stat_function(point_list[0], \\\n",
    "                        point_list[1], weights[0])\n",
    "    for point, weight in zip(point_list[2:], weights[2:]):\n",
    "        mean = iterative_stat_function(mean, point, weight)\n",
    "    return mean"
   ]
  },
  {
   "cell_type": "code",
   "execution_count": 18,
   "metadata": {},
   "outputs": [],
   "source": [
    "# Geodesic approximation\n",
    "def stiefelGeodesicApprox(X, Y, t):\n",
    "    lift = Y - 0.5*np.matmul(X, (np.matmul(Y.transpose(),X) + \\\n",
    "                     np.matmul(X.transpose(), Y)))\n",
    "    scale = t * lift\n",
    "    a = np.identity(scale.shape[-1]) \\\n",
    "        + np.matmul(scale.transpose(), scale)\n",
    "    a = np.linalg.inv(scipy.linalg.sqrt(a).real)\n",
    "    retract = np.matmul(X+scale, a)\n",
    "    return retract"
   ]
  },
  {
   "cell_type": "code",
   "execution_count": 24,
   "metadata": {},
   "outputs": [],
   "source": [
    "def grassmanGeodesic(X, Y, t):\n",
    "    svd_term = np.matmul(Y, np.linalg.inv(\\\n",
    "                        np.matmul(X.transpose, Y)) ) - X\n",
    "    U, s, V = np.linalg.svd(svd_term)\n",
    "    theta = np.arctan2(s, dtype=float())\n",
    "    qr_term = \\\n",
    "        np.matmul( X, np.matmul(V, np.diag(np.cos(theta*t)))) \\\n",
    "            + np.matmul(U, np.diag(np.sin(theta*t)))\n",
    "    return qr_term"
   ]
  },
  {
   "cell_type": "code",
   "execution_count": 25,
   "metadata": {},
   "outputs": [],
   "source": [
    "def weightedFrechetMeanUpdate(previous_mean, new_point, weight,\\\n",
    "                geodesic_generator=grassmanGeodesic):\n",
    "    return geodesic_generator(previous_mean, new_point, np.float(weight))"
   ]
  },
  {
   "cell_type": "code",
   "execution_count": 33,
   "metadata": {},
   "outputs": [],
   "source": [
    "class fullConv1d(keras.layers.Layer):\n",
    "    # Init with: \n",
    "    # iterative_mean_function = weightedFrechetMeanUpdate\n",
    "    # num_frames = number of blocks\n",
    "    def __init__(self, num_frames, iterative_mean_function=\\\n",
    "                weightedFrechetMeanUpdate):\n",
    "        super(fullConv1d, self).__init__()\n",
    "        self.iterative_mean_function = iterative_mean_function\n",
    "        # Weights: Default - init weights to compute unweighted FM\n",
    "        # Frechet Mean:\n",
    "        self.weight = tf.data.Dataset.from_tensor_slices(\\\n",
    "                [1/n for n in range(2, num_frames+2) ] )\n",
    "        self.weight_reference = \\\n",
    "            np.sum(tf.data.Dataset.from_tensor_slices(\\\n",
    "                [1/n for n in range(2, num_frames+2) ] ) )\n",
    "\n",
    "    def forward(self, block_list):\n",
    "        # Computes weighted FM.\n",
    "        out = weightedIterativeStatistic(block_list, self.weight,\\\n",
    "                        weightedFrechetMeanUpdate)\n",
    "        weight_penalty = (self.weight_reference - \\\n",
    "                          np.sum(self.weight))**2\n",
    "        \n",
    "        return out, weight_penalty"
   ]
  },
  {
   "cell_type": "code",
   "execution_count": 35,
   "metadata": {},
   "outputs": [],
   "source": [
    "class GrassmannAverageProjection(keras.layers.Layer):\n",
    "    def __init__(self, in_frames, out_frames):\n",
    "        super(GrassmannAverageProjection, self).__init__()\n",
    "        self.temporal_mean = GrassmannAverage(in_frames, \\\n",
    "                                              out_frames)\n",
    "    def forward(self, x):\n",
    "        y, weight_penalty = self.temporal_mean(x)\n",
    "        x = temporalProjection(x, y)\n",
    "        return x, weight_penalty\n",
    "        "
   ]
  },
  {
   "cell_type": "code",
   "execution_count": 36,
   "metadata": {},
   "outputs": [],
   "source": [
    "class GrassmannAverageBottleneck(keras.layers.Layer):\n",
    "    def __init__(self, in_frames, out_frames):\n",
    "        super(GrassmannAverageBottleneck, self).__init__()\n",
    "        self.temporal_mean = GrassmannAverage(in_frames, \\\n",
    "                                              out_frames)\n",
    "    def forward(self, x):\n",
    "        y, weight_penalty = self.temporal_mean(x)\n",
    "        x = temporalReconstruction(x,y)\n",
    "        return x, weight_penalty"
   ]
  },
  {
   "cell_type": "code",
   "execution_count": null,
   "metadata": {},
   "outputs": [],
   "source": [
    "# Given an array with dimensions [num_frames, 1, 2, 128],\n",
    "# reduce the first dimension by taking a weighted FM.\n",
    "class GrassmannAverage(keras.layers.Layer):\n",
    "    def __init__(self, in_frames, out_frames):\n",
    "        super(GrassmannAverage, self).__init__()\n",
    "        self.out_frames = out_frames\n",
    "        self.num_blocks = int(in_frames/out_frames)\n",
    "        self.weights = tf.data.Dataset.from_tensor_slices(\\\n",
    "                    [1/n for n in range(2,self.num_blocks+2)] )\n",
    "        self.weight_reference = keras.layers."
   ]
  }
 ],
 "metadata": {
  "kernelspec": {
   "display_name": "Python 3",
   "language": "python",
   "name": "python3"
  },
  "language_info": {
   "codemirror_mode": {
    "name": "ipython",
    "version": 3
   },
   "file_extension": ".py",
   "mimetype": "text/x-python",
   "name": "python",
   "nbconvert_exporter": "python",
   "pygments_lexer": "ipython3",
   "version": "3.7.3"
  }
 },
 "nbformat": 4,
 "nbformat_minor": 2
}
